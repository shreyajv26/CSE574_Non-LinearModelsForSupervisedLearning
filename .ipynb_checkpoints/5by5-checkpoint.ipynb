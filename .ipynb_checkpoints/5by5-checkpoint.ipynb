{
 "cells": [
  {
   "cell_type": "markdown",
   "metadata": {},
   "source": [
    "# CSE474/574 - Programming Assignment 2"
   ]
  },
  {
   "cell_type": "markdown",
   "metadata": {},
   "source": [
    "## Part 2 - Image Classification\n",
    "\n",
    "Additional library requirement: `Pillow`. See [here](https://anaconda.org/anaconda/pillow) for installation instructions.\n",
    "\n",
    "For this part, we will use `keras` with a `tensorflow` backend, instead of directly using `tensorflow`, as in Part 1. See [here](https://anaconda.org/conda-forge/keras) for installation instructions."
   ]
  },
  {
   "cell_type": "code",
   "execution_count": 8,
   "metadata": {},
   "outputs": [],
   "source": [
    "from __future__ import print_function\n",
    "from keras.models import Sequential\n",
    "from keras.layers import Dense, Activation\n",
    "\n",
    "import numpy as np\n",
    "import random as rd\n",
    "import time\n",
    "import pickle\n",
    "import os\n",
    "from PIL import Image\n",
    "#os.environ[\"CUDA_VISIBLE_DEVICES\"]=\"1\"\n",
    "import matplotlib.pyplot as plt\n",
    "%matplotlib inline"
   ]
  },
  {
   "cell_type": "code",
   "execution_count": 9,
   "metadata": {},
   "outputs": [],
   "source": [
    "def resize_images(data,size):\n",
    "    '''\n",
    "    Resize images in a given data matrix (1 per row) to the specified size in the tuple - size.\n",
    "    '''\n",
    "    resized_data = np.empty((data.shape[0],size[0]*size[1]))\n",
    "    for i in range(data.shape[0]):\n",
    "        d = (np.array(Image.fromarray(data[i,:].reshape((28,28))).resize(size))).flatten()\n",
    "        resized_data[i,:] = d\n",
    "    return resized_data    "
   ]
  },
  {
   "cell_type": "code",
   "execution_count": 10,
   "metadata": {},
   "outputs": [],
   "source": [
    "classes = ['apple', 'airplane', 'basketball', 'axe', 'banana', 'horse', 'arm', 'alarm clock', 'ant', 'bed']"
   ]
  },
  {
   "cell_type": "code",
   "execution_count": 11,
   "metadata": {},
   "outputs": [],
   "source": [
    "# Preparing the data set\n",
    "with open('AI_quick_draw.pickle', 'rb') as open_ai_quick:\n",
    "    data_train = pickle.load(open_ai_quick)\n",
    "    label_train1 = pickle.load(open_ai_quick)\n",
    "    data_test = pickle.load(open_ai_quick)\n",
    "    label_test1 = pickle.load(open_ai_quick)\n",
    "    data_train1 = resize_images(data_train,(5,5))\n",
    "n_classes = len(np.unique(label_train1))\n",
    "# convert labels to 0-1 hot encoding\n",
    "label_train = np.zeros((label_train1.shape[0], n_classes))\n",
    "a = np.arange(label_train1.shape[0], dtype=np.int64)\n",
    "b = np.array(label_train1, dtype=np.int64).reshape((label_train1.shape[0],))\n",
    "label_train[a, b] = 1\n",
    "\n",
    "label_test = np.zeros((label_test1.shape[0], n_classes))\n",
    "c = np.arange(label_test1.shape[0], dtype=np.int64)\n",
    "d = np.array(label_test1, dtype=np.int64).reshape((label_test1.shape[0],))\n",
    "label_test[c, d] = 1"
   ]
  },
  {
   "cell_type": "code",
   "execution_count": 12,
   "metadata": {},
   "outputs": [
    {
     "data": {
      "image/png": "[encoded data removed]",
      "text/plain": [
       "<Figure size 864x864 with 16 Axes>"
      ]
     },
     "metadata": {},
     "output_type": "display_data"
    }
   ],
   "source": [
    "# visualize some images\n",
    "fig = plt.figure(figsize=[12,12])\n",
    "for i in range(16):\n",
    "    ax = plt.subplot(4,4,i+1)    \n",
    "    ind = np.random.randint(0,data_train1.shape[0])\n",
    "    plt.imshow(data_train1[ind,:].reshape((5,5)),cmap='Greys')\n",
    "    plt.xticks([])\n",
    "    plt.yticks([])\n",
    "    t = plt.title(classes[int(label_train1[ind])])"
   ]
  },
  {
   "cell_type": "code",
   "execution_count": 13,
   "metadata": {},
   "outputs": [],
   "source": [
    "# for some macosx installations, conflicting copies of mpilib causes trouble with tensorflow.\n",
    "# use the following two lines to resolve that issue\n",
    "import os\n",
    "os.environ['KMP_DUPLICATE_LIB_OK']='True'"
   ]
  },
  {
   "cell_type": "markdown",
   "metadata": {},
   "source": [
    "**WARNING**: This cell will take a significantly long time to run"
   ]
  },
  {
   "cell_type": "code",
   "execution_count": 6,
   "metadata": {},
   "outputs": [
    {
     "ename": "NameError",
     "evalue": "name 'data_train1' is not defined",
     "output_type": "error",
     "traceback": [
      "\u001b[1;31m---------------------------------------------------------------------------\u001b[0m",
      "\u001b[1;31mNameError\u001b[0m                                 Traceback (most recent call last)",
      "\u001b[1;32m<ipython-input-6-70eabee32a4d>\u001b[0m in \u001b[0;36m<module>\u001b[1;34m\u001b[0m\n\u001b[0;32m      7\u001b[0m               \u001b[0mloss\u001b[0m\u001b[1;33m=\u001b[0m\u001b[1;34m'categorical_crossentropy'\u001b[0m\u001b[1;33m,\u001b[0m\u001b[1;33m\u001b[0m\u001b[0m\n\u001b[0;32m      8\u001b[0m               metrics=['accuracy'])\n\u001b[1;32m----> 9\u001b[1;33m \u001b[0mmodel\u001b[0m\u001b[1;33m.\u001b[0m\u001b[0mfit\u001b[0m\u001b[1;33m(\u001b[0m\u001b[0mdata_train1\u001b[0m\u001b[1;33m,\u001b[0m \u001b[0mlabel_train\u001b[0m\u001b[1;33m,\u001b[0m \u001b[0mepochs\u001b[0m\u001b[1;33m=\u001b[0m\u001b[1;36m500\u001b[0m\u001b[1;33m,\u001b[0m \u001b[0mbatch_size\u001b[0m\u001b[1;33m=\u001b[0m\u001b[1;36m32\u001b[0m\u001b[1;33m)\u001b[0m\u001b[1;33m\u001b[0m\u001b[0m\n\u001b[0m",
      "\u001b[1;31mNameError\u001b[0m: name 'data_train1' is not defined"
     ]
    }
   ],
   "source": [
    "model = Sequential()\n",
    "model.add(Dense(256, activation='relu', input_dim=data_train1.shape[1]))\n",
    "#model.add(Dense(256, activation='relu'))\n",
    "# you can add more Dense layers here\n",
    "model.add(Dense(10, activation='softmax'))\n",
    "model.compile(optimizer='rmsprop',\n",
    "              loss='categorical_crossentropy',\n",
    "              metrics=['accuracy'])\n",
    "model.fit(data_train1, label_train, epochs=500, batch_size=32)"
   ]
  },
  {
   "cell_type": "code",
   "execution_count": 16,
   "metadata": {},
   "outputs": [],
   "source": [
    "# save the model to use with the drawing app (this will be released later)\n",
    "model.save('pa2-part2-model.h5')"
   ]
  },
  {
   "cell_type": "code",
   "execution_count": null,
   "metadata": {},
   "outputs": [],
   "source": []
  },
  {
   "cell_type": "code",
   "execution_count": null,
   "metadata": {},
   "outputs": [],
   "source": []
  }
 ],
 "metadata": {
  "kernelspec": {
   "display_name": "Python 3",
   "language": "python",
   "name": "python3"
  },
  "language_info": {
   "codemirror_mode": {
    "name": "ipython",
    "version": 3
   },
   "file_extension": ".py",
   "mimetype": "text/x-python",
   "name": "python",
   "nbconvert_exporter": "python",
   "pygments_lexer": "ipython3",
   "version": "3.5.2"
  }
 },
 "nbformat": 4,
 "nbformat_minor": 4
}
