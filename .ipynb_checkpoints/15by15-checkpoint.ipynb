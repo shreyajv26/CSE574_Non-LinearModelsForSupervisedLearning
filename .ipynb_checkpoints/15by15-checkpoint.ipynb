{
 "cells": [
  {
   "cell_type": "markdown",
   "metadata": {},
   "source": [
    "# CSE474/574 - Programming Assignment 2"
   ]
  },
  {
   "cell_type": "markdown",
   "metadata": {},
   "source": [
    "## Part 2 - Image Classification\n",
    "\n",
    "Additional library requirement: `Pillow`. See [here](https://anaconda.org/anaconda/pillow) for installation instructions.\n",
    "\n",
    "For this part, we will use `keras` with a `tensorflow` backend, instead of directly using `tensorflow`, as in Part 1. See [here](https://anaconda.org/conda-forge/keras) for installation instructions."
   ]
  },
  {
   "cell_type": "code",
   "execution_count": 1,
   "metadata": {},
   "outputs": [
    {
     "name": "stderr",
     "output_type": "stream",
     "text": [
      "Using TensorFlow backend.\n"
     ]
    }
   ],
   "source": [
    "from __future__ import print_function\n",
    "from keras.models import Sequential\n",
    "from keras.layers import Dense, Activation\n",
    "\n",
    "import numpy as np\n",
    "import random as rd\n",
    "import time\n",
    "import pickle\n",
    "import os\n",
    "from PIL import Image\n",
    "#os.environ[\"CUDA_VISIBLE_DEVICES\"]=\"1\"\n",
    "import matplotlib.pyplot as plt\n",
    "%matplotlib inline"
   ]
  },
  {
   "cell_type": "code",
   "execution_count": 2,
   "metadata": {},
   "outputs": [],
   "source": [
    "def resize_images(data,size):\n",
    "    '''\n",
    "    Resize images in a given data matrix (1 per row) to the specified size in the tuple - size.\n",
    "    '''\n",
    "    resized_data = np.empty((data.shape[0],size[0]*size[1]))\n",
    "    for i in range(data.shape[0]):\n",
    "        d = (np.array(Image.fromarray(data[i,:].reshape((28,28))).resize(size))).flatten()\n",
    "        resized_data[i,:] = d\n",
    "    return resized_data    "
   ]
  },
  {
   "cell_type": "code",
   "execution_count": 3,
   "metadata": {},
   "outputs": [],
   "source": [
    "classes = ['apple', 'airplane', 'basketball', 'axe', 'banana', 'horse', 'arm', 'alarm clock', 'ant', 'bed']"
   ]
  },
  {
   "cell_type": "code",
   "execution_count": 4,
   "metadata": {},
   "outputs": [],
   "source": [
    "# Preparing the data set\n",
    "with open('AI_quick_draw.pickle', 'rb') as open_ai_quick:\n",
    "    data_train = pickle.load(open_ai_quick)\n",
    "    label_train1 = pickle.load(open_ai_quick)\n",
    "    data_test = pickle.load(open_ai_quick)\n",
    "    label_test1 = pickle.load(open_ai_quick)\n",
    "    data_train1 = resize_images(data_train,(15,15))\n",
    "n_classes = len(np.unique(label_train1))\n",
    "# convert labels to 0-1 hot encoding\n",
    "label_train = np.zeros((label_train1.shape[0], n_classes))\n",
    "a = np.arange(label_train1.shape[0], dtype=np.int64)\n",
    "b = np.array(label_train1, dtype=np.int64).reshape((label_train1.shape[0],))\n",
    "label_train[a, b] = 1\n",
    "\n",
    "label_test = np.zeros((label_test1.shape[0], n_classes))\n",
    "c = np.arange(label_test1.shape[0], dtype=np.int64)\n",
    "d = np.array(label_test1, dtype=np.int64).reshape((label_test1.shape[0],))\n",
    "label_test[c, d] = 1"
   ]
  },
  {
   "cell_type": "code",
   "execution_count": 5,
   "metadata": {},
   "outputs": [
    {
     "data": {
      "image/png": "[encoded data removed]",
      "text/plain": [
       "<Figure size 864x864 with 16 Axes>"
      ]
     },
     "metadata": {},
     "output_type": "display_data"
    }
   ],
   "source": [
    "# visualize some images\n",
    "fig = plt.figure(figsize=[12,12])\n",
    "for i in range(16):\n",
    "    ax = plt.subplot(4,4,i+1)    \n",
    "    ind = np.random.randint(0,data_train1.shape[0])\n",
    "    plt.imshow(data_train1[ind,:].reshape((15,15)),cmap='Greys')\n",
    "    plt.xticks([])\n",
    "    plt.yticks([])\n",
    "    t = plt.title(classes[int(label_train1[ind])])"
   ]
  },
  {
   "cell_type": "code",
   "execution_count": 6,
   "metadata": {},
   "outputs": [],
   "source": [
    "# for some macosx installations, conflicting copies of mpilib causes trouble with tensorflow.\n",
    "# use the following two lines to resolve that issue\n",
    "import os\n",
    "os.environ['KMP_DUPLICATE_LIB_OK']='True'"
   ]
  },
  {
   "cell_type": "markdown",
   "metadata": {},
   "source": [
    "**WARNING**: This cell will take a significantly long time to run"
   ]
  },
  {
   "cell_type": "code",
   "execution_count": null,
   "metadata": {},
   "outputs": [
    {
     "name": "stdout",
     "output_type": "stream",
     "text": [
      "Epoch 1/500\n",
      "100000/100000 [==============================] - 4s 44us/step - loss: 3.0069 - accuracy: 0.6127\n",
      "Epoch 2/500\n",
      "100000/100000 [==============================] - 5s 50us/step - loss: 1.3953 - accuracy: 0.6929\n",
      "Epoch 3/500\n",
      "100000/100000 [==============================] - 5s 47us/step - loss: 1.3852 - accuracy: 0.7092\n",
      "Epoch 4/500\n",
      "100000/100000 [==============================] - 5s 46us/step - loss: 1.3795 - accuracy: 0.7185\n",
      "Epoch 5/500\n",
      "100000/100000 [==============================] - 4s 44us/step - loss: 1.3782 - accuracy: 0.7213\n",
      "Epoch 6/500\n",
      "100000/100000 [==============================] - 4s 45us/step - loss: 1.4060 - accuracy: 0.7230\n",
      "Epoch 7/500\n",
      "100000/100000 [==============================] - 4s 44us/step - loss: 1.4011 - accuracy: 0.7285\n",
      "Epoch 8/500\n",
      "100000/100000 [==============================] - 5s 46us/step - loss: 1.3692 - accuracy: 0.7313\n",
      "Epoch 9/500\n",
      "100000/100000 [==============================] - 5s 51us/step - loss: 1.3546 - accuracy: 0.7346\n",
      "Epoch 10/500\n",
      "100000/100000 [==============================] - 5s 52us/step - loss: 1.3575 - accuracy: 0.7385\n",
      "Epoch 11/500\n",
      "100000/100000 [==============================] - 4s 43us/step - loss: 1.3533 - accuracy: 0.7413\n",
      "Epoch 12/500\n",
      "100000/100000 [==============================] - 4s 44us/step - loss: 1.3349 - accuracy: 0.7411\n",
      "Epoch 13/500\n",
      "100000/100000 [==============================] - 5s 47us/step - loss: 1.3516 - accuracy: 0.7420\n",
      "Epoch 14/500\n",
      "100000/100000 [==============================] - 5s 51us/step - loss: 1.3360 - accuracy: 0.7428\n",
      "Epoch 15/500\n",
      "100000/100000 [==============================] - 5s 48us/step - loss: 1.3323 - accuracy: 0.7495\n",
      "Epoch 16/500\n",
      "100000/100000 [==============================] - 5s 47us/step - loss: 1.3147 - accuracy: 0.7517\n",
      "Epoch 17/500\n",
      "100000/100000 [==============================] - 5s 47us/step - loss: 1.3205 - accuracy: 0.7502\n",
      "Epoch 18/500\n",
      "100000/100000 [==============================] - 5s 50us/step - loss: 1.3143 - accuracy: 0.7504\n",
      "Epoch 19/500\n",
      "100000/100000 [==============================] - 5s 55us/step - loss: 1.3132 - accuracy: 0.7514\n",
      "Epoch 20/500\n",
      "100000/100000 [==============================] - 5s 54us/step - loss: 1.2961 - accuracy: 0.7535\n",
      "Epoch 21/500\n",
      "100000/100000 [==============================] - 5s 53us/step - loss: 1.3034 - accuracy: 0.7551\n",
      "Epoch 22/500\n",
      "100000/100000 [==============================] - 5s 53us/step - loss: 1.2941 - accuracy: 0.7573\n",
      "Epoch 23/500\n",
      "  9472/100000 [=>............................] - ETA: 4s - loss: 1.1581 - accuracy: 0.7640"
     ]
    }
   ],
   "source": [
    "model = Sequential()\n",
    "model.add(Dense(256, activation='relu', input_dim=data_train1.shape[1]))\n",
    "#model.add(Dense(256, activation='relu'))\n",
    "# you can add more Dense layers here\n",
    "model.add(Dense(10, activation='softmax'))\n",
    "model.compile(optimizer='rmsprop',\n",
    "              loss='categorical_crossentropy',\n",
    "              metrics=['accuracy'])\n",
    "model.fit(data_train1, label_train, epochs=500, batch_size=32)"
   ]
  },
  {
   "cell_type": "code",
   "execution_count": null,
   "metadata": {},
   "outputs": [],
   "source": [
    "# save the model to use with the drawing app (this will be released later)\n",
    "model.save('pa2-part2-model.h5')"
   ]
  },
  {
   "cell_type": "code",
   "execution_count": null,
   "metadata": {},
   "outputs": [],
   "source": []
  },
  {
   "cell_type": "code",
   "execution_count": null,
   "metadata": {},
   "outputs": [],
   "source": []
  }
 ],
 "metadata": {
  "kernelspec": {
   "display_name": "Python 3",
   "language": "python",
   "name": "python3"
  },
  "language_info": {
   "codemirror_mode": {
    "name": "ipython",
    "version": 3
   },
   "file_extension": ".py",
   "mimetype": "text/x-python",
   "name": "python",
   "nbconvert_exporter": "python",
   "pygments_lexer": "ipython3",
   "version": "3.5.2"
  }
 },
 "nbformat": 4,
 "nbformat_minor": 4
}
